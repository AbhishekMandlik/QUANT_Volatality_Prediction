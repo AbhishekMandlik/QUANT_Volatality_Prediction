{
  "nbformat": 4,
  "nbformat_minor": 0,
  "metadata": {
    "colab": {
      "provenance": []
    },
    "kernelspec": {
      "name": "python3",
      "display_name": "Python 3"
    },
    "language_info": {
      "name": "python"
    }
  },
  "cells": [
    {
      "cell_type": "code",
      "source": [
        "import pandas as pd\n",
        "import numpy as np\n",
        "import matplotlib.pyplot as plt\n",
        "from statsmodels.graphics.tsaplots import plot_acf, plot_pacf\n",
        "from scipy.stats import probplot"
      ],
      "metadata": {
        "id": "ucbH-X0C-TWC"
      },
      "execution_count": 1,
      "outputs": []
    },
    {
      "cell_type": "code",
      "source": [
        "import pandas as pd\n",
        "import yfinance as yf\n",
        "\n",
        "def get_top_nse_stocks(n=20):\n",
        "    \"\"\"\n",
        "    Function to retrieve the top N stocks by market capitalization on the NSE.\n",
        "\n",
        "    Args:\n",
        "    - n: Number of top stocks to retrieve (default is 20).\n",
        "\n",
        "    Returns:\n",
        "    - List of dictionaries containing stock ticker symbol and company name.\n",
        "    \"\"\"\n",
        "    top_stocks = [\n",
        "        {\"symbol\": \"RELIANCE.NS\", \"company\": \"Reliance Industries Limited\"},\n",
        "        {\"symbol\": \"TCS.NS\", \"company\": \"Tata Consultancy Services Limited\"},\n",
        "        {\"symbol\": \"HDFCBANK.NS\", \"company\": \"HDFC Bank Limited\"},\n",
        "        {\"symbol\": \"HINDUNILVR.NS\", \"company\": \"Hindustan Unilever Limited\"},\n",
        "        {\"symbol\": \"ICICIBANK.NS\", \"company\": \"ICICI Bank Limited\"},\n",
        "        {\"symbol\": \"INFY.NS\", \"company\": \"Infosys Limited\"},\n",
        "        {\"symbol\": \"KOTAKBANK.NS\", \"company\": \"Kotak Mahindra Bank Limited\"},\n",
        "        {\"symbol\": \"ITC.NS\", \"company\": \"ITC Limited\"},\n",
        "        {\"symbol\": \"BAJFINANCE.NS\", \"company\": \"Bajaj Finance Limited\"},\n",
        "        {\"symbol\": \"AXISBANK.NS\", \"company\": \"Axis Bank Limited\"},\n",
        "        {\"symbol\": \"BHARTIARTL.NS\", \"company\": \"Bharti Airtel Limited\"},\n",
        "        {\"symbol\": \"WIPRO.NS\", \"company\": \"Wipro Limited\"},\n",
        "        {\"symbol\": \"SBIN.NS\", \"company\": \"State Bank of India\"},\n",
        "        {\"symbol\": \"DMART.NS\", \"company\": \"Avenue Supermarts Limited\"},\n",
        "        {\"symbol\": \"ASIANPAINT.NS\", \"company\": \"Asian Paints Limited\"},\n",
        "        {\"symbol\": \"ULTRACEMCO.NS\", \"company\": \"UltraTech Cement Limited\"},\n",
        "        {\"symbol\": \"MARUTI.NS\", \"company\": \"Maruti Suzuki India Limited\"},\n",
        "        {\"symbol\": \"LT.NS\", \"company\": \"Larsen & Toubro Limited\"},\n",
        "        {\"symbol\": \"NESTLEIND.NS\", \"company\": \"Nestlé India Limited\"},\n",
        "        {\"symbol\": \"SUNPHARMA.NS\", \"company\": \"Sun Pharmaceutical Industries Limited\"}\n",
        "    ]\n",
        "\n",
        "    return top_stocks[:n]\n",
        "\n",
        "def fetch_stock_data(symbol, start_date, end_date):\n",
        "    \"\"\"\n",
        "    Function to fetch historical daily stock price data for a given symbol.\n",
        "\n",
        "    Args:\n",
        "    - symbol: Stock ticker symbol (e.g., 'AAPL' for Apple Inc.).\n",
        "    - start_date: Start date of the historical data (YYYY-MM-DD).\n",
        "    - end_date: End date of the historical data (YYYY-MM-DD).\n",
        "\n",
        "    Returns:\n",
        "    - Pandas DataFrame containing the historical stock price data.\n",
        "    \"\"\"\n",
        "    stock_data = yf.download(symbol, start=start_date, end=end_date)\n",
        "    stock_data['Symbol'] = symbol  # Add a column for the stock symbol\n",
        "    return stock_data\n",
        "\n",
        "def preprocess_stock_data(stock_data):\n",
        "    \"\"\"\n",
        "    Function to preprocess the fetched stock data.\n",
        "\n",
        "    Args:\n",
        "    - stock_data: Pandas DataFrame containing the historical stock price data.\n",
        "\n",
        "    Returns:\n",
        "    - Preprocessed stock data with adjusted close prices.\n",
        "    \"\"\"\n",
        "    # Drop rows with missing values\n",
        "    stock_data.dropna(inplace=True)\n",
        "\n",
        "    # Adjust for stock splits and dividends, if necessary\n",
        "    # You may need additional preprocessing steps depending on the data source\n",
        "\n",
        "    return stock_data\n",
        "\n",
        "# Main code\n",
        "if __name__ == \"__main__\":\n",
        "    # Define the date range for historical data\n",
        "    start_date = \"2018-08-01\"\n",
        "    end_date = \"2023-08-01\"\n",
        "\n",
        "    # Get the top N stocks by market capitalization on the NSE\n",
        "    top_stocks = get_top_nse_stocks(n=20)\n",
        "\n",
        "    # List to store preprocessed data for all stocks\n",
        "    all_stock_data = []\n",
        "\n",
        "    # Fetch and preprocess data for each stock\n",
        "    for stock_info in top_stocks:\n",
        "        stock_symbol = stock_info['symbol']\n",
        "        print(f\"Fetching data for {stock_symbol}...\")\n",
        "        stock_data = fetch_stock_data(stock_symbol, start_date, end_date)\n",
        "        preprocessed_data = preprocess_stock_data(stock_data)\n",
        "\n",
        "        # Append preprocessed data to the list\n",
        "        all_stock_data.append(preprocessed_data)\n",
        "\n",
        "    # Combine preprocessed data for all stocks into one DataFrame\n",
        "    combined_data = pd.concat(all_stock_data)\n",
        "\n",
        "    # Save combined data to a CSV file\n",
        "    combined_data.to_csv('combined_stock_data.csv')\n",
        "\n",
        ""
      ],
      "metadata": {
        "id": "FCREoz-B-WyA",
        "outputId": "90cddd6e-dfa4-4419-9a06-50b77d0a2068",
        "colab": {
          "base_uri": "https://localhost:8080/"
        }
      },
      "execution_count": 2,
      "outputs": [
        {
          "output_type": "stream",
          "name": "stdout",
          "text": [
            "Fetching data for RELIANCE.NS...\n"
          ]
        },
        {
          "output_type": "stream",
          "name": "stderr",
          "text": [
            "[*********************100%%**********************]  1 of 1 completed\n",
            "[*********************100%%**********************]  1 of 1 completed\n"
          ]
        },
        {
          "output_type": "stream",
          "name": "stdout",
          "text": [
            "Fetching data for TCS.NS...\n",
            "Fetching data for HDFCBANK.NS...\n"
          ]
        },
        {
          "output_type": "stream",
          "name": "stderr",
          "text": [
            "\r[*********************100%%**********************]  1 of 1 completed\n"
          ]
        },
        {
          "output_type": "stream",
          "name": "stdout",
          "text": [
            "Fetching data for HINDUNILVR.NS...\n"
          ]
        },
        {
          "output_type": "stream",
          "name": "stderr",
          "text": [
            "\r[*********************100%%**********************]  1 of 1 completed\n"
          ]
        },
        {
          "output_type": "stream",
          "name": "stdout",
          "text": [
            "Fetching data for ICICIBANK.NS...\n"
          ]
        },
        {
          "output_type": "stream",
          "name": "stderr",
          "text": [
            "\r[*********************100%%**********************]  1 of 1 completed\n"
          ]
        },
        {
          "output_type": "stream",
          "name": "stdout",
          "text": [
            "Fetching data for INFY.NS...\n"
          ]
        },
        {
          "output_type": "stream",
          "name": "stderr",
          "text": [
            "[*********************100%%**********************]  1 of 1 completed\n",
            "[*********************100%%**********************]  1 of 1 completed"
          ]
        },
        {
          "output_type": "stream",
          "name": "stdout",
          "text": [
            "Fetching data for KOTAKBANK.NS...\n"
          ]
        },
        {
          "output_type": "stream",
          "name": "stderr",
          "text": [
            "\n"
          ]
        },
        {
          "output_type": "stream",
          "name": "stdout",
          "text": [
            "Fetching data for ITC.NS...\n"
          ]
        },
        {
          "output_type": "stream",
          "name": "stderr",
          "text": [
            "[*********************100%%**********************]  1 of 1 completed\n",
            "[*********************100%%**********************]  1 of 1 completed\n"
          ]
        },
        {
          "output_type": "stream",
          "name": "stdout",
          "text": [
            "Fetching data for BAJFINANCE.NS...\n",
            "Fetching data for AXISBANK.NS...\n"
          ]
        },
        {
          "output_type": "stream",
          "name": "stderr",
          "text": [
            "\r[*********************100%%**********************]  1 of 1 completed\n"
          ]
        },
        {
          "output_type": "stream",
          "name": "stdout",
          "text": [
            "Fetching data for BHARTIARTL.NS...\n"
          ]
        },
        {
          "output_type": "stream",
          "name": "stderr",
          "text": [
            "\r[*********************100%%**********************]  1 of 1 completed\n"
          ]
        },
        {
          "output_type": "stream",
          "name": "stdout",
          "text": [
            "Fetching data for WIPRO.NS...\n"
          ]
        },
        {
          "output_type": "stream",
          "name": "stderr",
          "text": [
            "\r[*********************100%%**********************]  1 of 1 completed\n"
          ]
        },
        {
          "output_type": "stream",
          "name": "stdout",
          "text": [
            "Fetching data for SBIN.NS...\n"
          ]
        },
        {
          "output_type": "stream",
          "name": "stderr",
          "text": [
            "[*********************100%%**********************]  1 of 1 completed\n",
            "[*********************100%%**********************]  1 of 1 completed\n"
          ]
        },
        {
          "output_type": "stream",
          "name": "stdout",
          "text": [
            "Fetching data for DMART.NS...\n",
            "Fetching data for ASIANPAINT.NS...\n"
          ]
        },
        {
          "output_type": "stream",
          "name": "stderr",
          "text": [
            "[*********************100%%**********************]  1 of 1 completed\n",
            "[*********************100%%**********************]  1 of 1 completed"
          ]
        },
        {
          "output_type": "stream",
          "name": "stdout",
          "text": [
            "Fetching data for ULTRACEMCO.NS...\n"
          ]
        },
        {
          "output_type": "stream",
          "name": "stderr",
          "text": [
            "\n"
          ]
        },
        {
          "output_type": "stream",
          "name": "stdout",
          "text": [
            "Fetching data for MARUTI.NS...\n"
          ]
        },
        {
          "output_type": "stream",
          "name": "stderr",
          "text": [
            "[*********************100%%**********************]  1 of 1 completed\n",
            "[*********************100%%**********************]  1 of 1 completed\n"
          ]
        },
        {
          "output_type": "stream",
          "name": "stdout",
          "text": [
            "Fetching data for LT.NS...\n",
            "Fetching data for NESTLEIND.NS...\n"
          ]
        },
        {
          "output_type": "stream",
          "name": "stderr",
          "text": [
            "\r[*********************100%%**********************]  1 of 1 completed\n"
          ]
        },
        {
          "output_type": "stream",
          "name": "stdout",
          "text": [
            "Fetching data for SUNPHARMA.NS...\n"
          ]
        },
        {
          "output_type": "stream",
          "name": "stderr",
          "text": [
            "\r[*********************100%%**********************]  1 of 1 completed\n"
          ]
        }
      ]
    },
    {
      "cell_type": "code",
      "source": [
        "reliance_data = combined_data[combined_data['Symbol'] == 'RELIANCE.NS']"
      ],
      "metadata": {
        "id": "mObjUHXM-dlM"
      },
      "execution_count": 3,
      "outputs": []
    },
    {
      "cell_type": "code",
      "source": [
        "reliance_data"
      ],
      "metadata": {
        "id": "BbfSyGO4-qk-",
        "outputId": "ab06360a-757f-4d55-dfa5-fc292434750a",
        "colab": {
          "base_uri": "https://localhost:8080/",
          "height": 455
        }
      },
      "execution_count": 5,
      "outputs": [
        {
          "output_type": "execute_result",
          "data": {
            "text/plain": [
              "                   Open         High          Low        Close    Adj Close  \\\n",
              "Date                                                                          \n",
              "2018-08-01  1088.421631  1099.850830  1083.849976  1090.204590  1068.286377   \n",
              "2018-08-02  1089.427490  1089.427490  1066.066284  1068.260620  1046.783569   \n",
              "2018-08-03  1074.340942  1082.112793  1069.357788  1076.123901  1054.488647   \n",
              "2018-08-06  1075.895264  1093.541870  1074.661011  1090.433228  1068.510376   \n",
              "2018-08-07  1092.536133  1098.479370  1076.169556  1082.752808  1060.984375   \n",
              "...                 ...          ...          ...          ...          ...   \n",
              "2023-07-25  2494.000000  2505.199951  2480.000000  2485.800049  2477.050049   \n",
              "2023-07-26  2485.000000  2547.000000  2485.000000  2526.199951  2517.307617   \n",
              "2023-07-27  2534.050049  2537.649902  2490.350098  2502.699951  2493.890381   \n",
              "2023-07-28  2512.050049  2542.850098  2500.550049  2527.850098  2518.952148   \n",
              "2023-07-31  2527.850098  2553.899902  2517.949951  2549.250000  2540.276611   \n",
              "\n",
              "              Volume       Symbol  \n",
              "Date                               \n",
              "2018-08-01  10613527  RELIANCE.NS  \n",
              "2018-08-02   6834465  RELIANCE.NS  \n",
              "2018-08-03   7268029  RELIANCE.NS  \n",
              "2018-08-06   4392731  RELIANCE.NS  \n",
              "2018-08-07   4439806  RELIANCE.NS  \n",
              "...              ...          ...  \n",
              "2023-07-25   6013010  RELIANCE.NS  \n",
              "2023-07-26   6455506  RELIANCE.NS  \n",
              "2023-07-27   8613449  RELIANCE.NS  \n",
              "2023-07-28  10413926  RELIANCE.NS  \n",
              "2023-07-31   4275587  RELIANCE.NS  \n",
              "\n",
              "[1233 rows x 7 columns]"
            ],
            "text/html": [
              "\n",
              "  <div id=\"df-09f36c88-57c3-4fb0-bacc-dad0ea2425ca\" class=\"colab-df-container\">\n",
              "    <div>\n",
              "<style scoped>\n",
              "    .dataframe tbody tr th:only-of-type {\n",
              "        vertical-align: middle;\n",
              "    }\n",
              "\n",
              "    .dataframe tbody tr th {\n",
              "        vertical-align: top;\n",
              "    }\n",
              "\n",
              "    .dataframe thead th {\n",
              "        text-align: right;\n",
              "    }\n",
              "</style>\n",
              "<table border=\"1\" class=\"dataframe\">\n",
              "  <thead>\n",
              "    <tr style=\"text-align: right;\">\n",
              "      <th></th>\n",
              "      <th>Open</th>\n",
              "      <th>High</th>\n",
              "      <th>Low</th>\n",
              "      <th>Close</th>\n",
              "      <th>Adj Close</th>\n",
              "      <th>Volume</th>\n",
              "      <th>Symbol</th>\n",
              "    </tr>\n",
              "    <tr>\n",
              "      <th>Date</th>\n",
              "      <th></th>\n",
              "      <th></th>\n",
              "      <th></th>\n",
              "      <th></th>\n",
              "      <th></th>\n",
              "      <th></th>\n",
              "      <th></th>\n",
              "    </tr>\n",
              "  </thead>\n",
              "  <tbody>\n",
              "    <tr>\n",
              "      <th>2018-08-01</th>\n",
              "      <td>1088.421631</td>\n",
              "      <td>1099.850830</td>\n",
              "      <td>1083.849976</td>\n",
              "      <td>1090.204590</td>\n",
              "      <td>1068.286377</td>\n",
              "      <td>10613527</td>\n",
              "      <td>RELIANCE.NS</td>\n",
              "    </tr>\n",
              "    <tr>\n",
              "      <th>2018-08-02</th>\n",
              "      <td>1089.427490</td>\n",
              "      <td>1089.427490</td>\n",
              "      <td>1066.066284</td>\n",
              "      <td>1068.260620</td>\n",
              "      <td>1046.783569</td>\n",
              "      <td>6834465</td>\n",
              "      <td>RELIANCE.NS</td>\n",
              "    </tr>\n",
              "    <tr>\n",
              "      <th>2018-08-03</th>\n",
              "      <td>1074.340942</td>\n",
              "      <td>1082.112793</td>\n",
              "      <td>1069.357788</td>\n",
              "      <td>1076.123901</td>\n",
              "      <td>1054.488647</td>\n",
              "      <td>7268029</td>\n",
              "      <td>RELIANCE.NS</td>\n",
              "    </tr>\n",
              "    <tr>\n",
              "      <th>2018-08-06</th>\n",
              "      <td>1075.895264</td>\n",
              "      <td>1093.541870</td>\n",
              "      <td>1074.661011</td>\n",
              "      <td>1090.433228</td>\n",
              "      <td>1068.510376</td>\n",
              "      <td>4392731</td>\n",
              "      <td>RELIANCE.NS</td>\n",
              "    </tr>\n",
              "    <tr>\n",
              "      <th>2018-08-07</th>\n",
              "      <td>1092.536133</td>\n",
              "      <td>1098.479370</td>\n",
              "      <td>1076.169556</td>\n",
              "      <td>1082.752808</td>\n",
              "      <td>1060.984375</td>\n",
              "      <td>4439806</td>\n",
              "      <td>RELIANCE.NS</td>\n",
              "    </tr>\n",
              "    <tr>\n",
              "      <th>...</th>\n",
              "      <td>...</td>\n",
              "      <td>...</td>\n",
              "      <td>...</td>\n",
              "      <td>...</td>\n",
              "      <td>...</td>\n",
              "      <td>...</td>\n",
              "      <td>...</td>\n",
              "    </tr>\n",
              "    <tr>\n",
              "      <th>2023-07-25</th>\n",
              "      <td>2494.000000</td>\n",
              "      <td>2505.199951</td>\n",
              "      <td>2480.000000</td>\n",
              "      <td>2485.800049</td>\n",
              "      <td>2477.050049</td>\n",
              "      <td>6013010</td>\n",
              "      <td>RELIANCE.NS</td>\n",
              "    </tr>\n",
              "    <tr>\n",
              "      <th>2023-07-26</th>\n",
              "      <td>2485.000000</td>\n",
              "      <td>2547.000000</td>\n",
              "      <td>2485.000000</td>\n",
              "      <td>2526.199951</td>\n",
              "      <td>2517.307617</td>\n",
              "      <td>6455506</td>\n",
              "      <td>RELIANCE.NS</td>\n",
              "    </tr>\n",
              "    <tr>\n",
              "      <th>2023-07-27</th>\n",
              "      <td>2534.050049</td>\n",
              "      <td>2537.649902</td>\n",
              "      <td>2490.350098</td>\n",
              "      <td>2502.699951</td>\n",
              "      <td>2493.890381</td>\n",
              "      <td>8613449</td>\n",
              "      <td>RELIANCE.NS</td>\n",
              "    </tr>\n",
              "    <tr>\n",
              "      <th>2023-07-28</th>\n",
              "      <td>2512.050049</td>\n",
              "      <td>2542.850098</td>\n",
              "      <td>2500.550049</td>\n",
              "      <td>2527.850098</td>\n",
              "      <td>2518.952148</td>\n",
              "      <td>10413926</td>\n",
              "      <td>RELIANCE.NS</td>\n",
              "    </tr>\n",
              "    <tr>\n",
              "      <th>2023-07-31</th>\n",
              "      <td>2527.850098</td>\n",
              "      <td>2553.899902</td>\n",
              "      <td>2517.949951</td>\n",
              "      <td>2549.250000</td>\n",
              "      <td>2540.276611</td>\n",
              "      <td>4275587</td>\n",
              "      <td>RELIANCE.NS</td>\n",
              "    </tr>\n",
              "  </tbody>\n",
              "</table>\n",
              "<p>1233 rows × 7 columns</p>\n",
              "</div>\n",
              "    <div class=\"colab-df-buttons\">\n",
              "\n",
              "  <div class=\"colab-df-container\">\n",
              "    <button class=\"colab-df-convert\" onclick=\"convertToInteractive('df-09f36c88-57c3-4fb0-bacc-dad0ea2425ca')\"\n",
              "            title=\"Convert this dataframe to an interactive table.\"\n",
              "            style=\"display:none;\">\n",
              "\n",
              "  <svg xmlns=\"http://www.w3.org/2000/svg\" height=\"24px\" viewBox=\"0 -960 960 960\">\n",
              "    <path d=\"M120-120v-720h720v720H120Zm60-500h600v-160H180v160Zm220 220h160v-160H400v160Zm0 220h160v-160H400v160ZM180-400h160v-160H180v160Zm440 0h160v-160H620v160ZM180-180h160v-160H180v160Zm440 0h160v-160H620v160Z\"/>\n",
              "  </svg>\n",
              "    </button>\n",
              "\n",
              "  <style>\n",
              "    .colab-df-container {\n",
              "      display:flex;\n",
              "      gap: 12px;\n",
              "    }\n",
              "\n",
              "    .colab-df-convert {\n",
              "      background-color: #E8F0FE;\n",
              "      border: none;\n",
              "      border-radius: 50%;\n",
              "      cursor: pointer;\n",
              "      display: none;\n",
              "      fill: #1967D2;\n",
              "      height: 32px;\n",
              "      padding: 0 0 0 0;\n",
              "      width: 32px;\n",
              "    }\n",
              "\n",
              "    .colab-df-convert:hover {\n",
              "      background-color: #E2EBFA;\n",
              "      box-shadow: 0px 1px 2px rgba(60, 64, 67, 0.3), 0px 1px 3px 1px rgba(60, 64, 67, 0.15);\n",
              "      fill: #174EA6;\n",
              "    }\n",
              "\n",
              "    .colab-df-buttons div {\n",
              "      margin-bottom: 4px;\n",
              "    }\n",
              "\n",
              "    [theme=dark] .colab-df-convert {\n",
              "      background-color: #3B4455;\n",
              "      fill: #D2E3FC;\n",
              "    }\n",
              "\n",
              "    [theme=dark] .colab-df-convert:hover {\n",
              "      background-color: #434B5C;\n",
              "      box-shadow: 0px 1px 3px 1px rgba(0, 0, 0, 0.15);\n",
              "      filter: drop-shadow(0px 1px 2px rgba(0, 0, 0, 0.3));\n",
              "      fill: #FFFFFF;\n",
              "    }\n",
              "  </style>\n",
              "\n",
              "    <script>\n",
              "      const buttonEl =\n",
              "        document.querySelector('#df-09f36c88-57c3-4fb0-bacc-dad0ea2425ca button.colab-df-convert');\n",
              "      buttonEl.style.display =\n",
              "        google.colab.kernel.accessAllowed ? 'block' : 'none';\n",
              "\n",
              "      async function convertToInteractive(key) {\n",
              "        const element = document.querySelector('#df-09f36c88-57c3-4fb0-bacc-dad0ea2425ca');\n",
              "        const dataTable =\n",
              "          await google.colab.kernel.invokeFunction('convertToInteractive',\n",
              "                                                    [key], {});\n",
              "        if (!dataTable) return;\n",
              "\n",
              "        const docLinkHtml = 'Like what you see? Visit the ' +\n",
              "          '<a target=\"_blank\" href=https://colab.research.google.com/notebooks/data_table.ipynb>data table notebook</a>'\n",
              "          + ' to learn more about interactive tables.';\n",
              "        element.innerHTML = '';\n",
              "        dataTable['output_type'] = 'display_data';\n",
              "        await google.colab.output.renderOutput(dataTable, element);\n",
              "        const docLink = document.createElement('div');\n",
              "        docLink.innerHTML = docLinkHtml;\n",
              "        element.appendChild(docLink);\n",
              "      }\n",
              "    </script>\n",
              "  </div>\n",
              "\n",
              "\n",
              "<div id=\"df-6ccc38af-c4b3-45aa-9ecd-983edf485888\">\n",
              "  <button class=\"colab-df-quickchart\" onclick=\"quickchart('df-6ccc38af-c4b3-45aa-9ecd-983edf485888')\"\n",
              "            title=\"Suggest charts\"\n",
              "            style=\"display:none;\">\n",
              "\n",
              "<svg xmlns=\"http://www.w3.org/2000/svg\" height=\"24px\"viewBox=\"0 0 24 24\"\n",
              "     width=\"24px\">\n",
              "    <g>\n",
              "        <path d=\"M19 3H5c-1.1 0-2 .9-2 2v14c0 1.1.9 2 2 2h14c1.1 0 2-.9 2-2V5c0-1.1-.9-2-2-2zM9 17H7v-7h2v7zm4 0h-2V7h2v10zm4 0h-2v-4h2v4z\"/>\n",
              "    </g>\n",
              "</svg>\n",
              "  </button>\n",
              "\n",
              "<style>\n",
              "  .colab-df-quickchart {\n",
              "      --bg-color: #E8F0FE;\n",
              "      --fill-color: #1967D2;\n",
              "      --hover-bg-color: #E2EBFA;\n",
              "      --hover-fill-color: #174EA6;\n",
              "      --disabled-fill-color: #AAA;\n",
              "      --disabled-bg-color: #DDD;\n",
              "  }\n",
              "\n",
              "  [theme=dark] .colab-df-quickchart {\n",
              "      --bg-color: #3B4455;\n",
              "      --fill-color: #D2E3FC;\n",
              "      --hover-bg-color: #434B5C;\n",
              "      --hover-fill-color: #FFFFFF;\n",
              "      --disabled-bg-color: #3B4455;\n",
              "      --disabled-fill-color: #666;\n",
              "  }\n",
              "\n",
              "  .colab-df-quickchart {\n",
              "    background-color: var(--bg-color);\n",
              "    border: none;\n",
              "    border-radius: 50%;\n",
              "    cursor: pointer;\n",
              "    display: none;\n",
              "    fill: var(--fill-color);\n",
              "    height: 32px;\n",
              "    padding: 0;\n",
              "    width: 32px;\n",
              "  }\n",
              "\n",
              "  .colab-df-quickchart:hover {\n",
              "    background-color: var(--hover-bg-color);\n",
              "    box-shadow: 0 1px 2px rgba(60, 64, 67, 0.3), 0 1px 3px 1px rgba(60, 64, 67, 0.15);\n",
              "    fill: var(--button-hover-fill-color);\n",
              "  }\n",
              "\n",
              "  .colab-df-quickchart-complete:disabled,\n",
              "  .colab-df-quickchart-complete:disabled:hover {\n",
              "    background-color: var(--disabled-bg-color);\n",
              "    fill: var(--disabled-fill-color);\n",
              "    box-shadow: none;\n",
              "  }\n",
              "\n",
              "  .colab-df-spinner {\n",
              "    border: 2px solid var(--fill-color);\n",
              "    border-color: transparent;\n",
              "    border-bottom-color: var(--fill-color);\n",
              "    animation:\n",
              "      spin 1s steps(1) infinite;\n",
              "  }\n",
              "\n",
              "  @keyframes spin {\n",
              "    0% {\n",
              "      border-color: transparent;\n",
              "      border-bottom-color: var(--fill-color);\n",
              "      border-left-color: var(--fill-color);\n",
              "    }\n",
              "    20% {\n",
              "      border-color: transparent;\n",
              "      border-left-color: var(--fill-color);\n",
              "      border-top-color: var(--fill-color);\n",
              "    }\n",
              "    30% {\n",
              "      border-color: transparent;\n",
              "      border-left-color: var(--fill-color);\n",
              "      border-top-color: var(--fill-color);\n",
              "      border-right-color: var(--fill-color);\n",
              "    }\n",
              "    40% {\n",
              "      border-color: transparent;\n",
              "      border-right-color: var(--fill-color);\n",
              "      border-top-color: var(--fill-color);\n",
              "    }\n",
              "    60% {\n",
              "      border-color: transparent;\n",
              "      border-right-color: var(--fill-color);\n",
              "    }\n",
              "    80% {\n",
              "      border-color: transparent;\n",
              "      border-right-color: var(--fill-color);\n",
              "      border-bottom-color: var(--fill-color);\n",
              "    }\n",
              "    90% {\n",
              "      border-color: transparent;\n",
              "      border-bottom-color: var(--fill-color);\n",
              "    }\n",
              "  }\n",
              "</style>\n",
              "\n",
              "  <script>\n",
              "    async function quickchart(key) {\n",
              "      const quickchartButtonEl =\n",
              "        document.querySelector('#' + key + ' button');\n",
              "      quickchartButtonEl.disabled = true;  // To prevent multiple clicks.\n",
              "      quickchartButtonEl.classList.add('colab-df-spinner');\n",
              "      try {\n",
              "        const charts = await google.colab.kernel.invokeFunction(\n",
              "            'suggestCharts', [key], {});\n",
              "      } catch (error) {\n",
              "        console.error('Error during call to suggestCharts:', error);\n",
              "      }\n",
              "      quickchartButtonEl.classList.remove('colab-df-spinner');\n",
              "      quickchartButtonEl.classList.add('colab-df-quickchart-complete');\n",
              "    }\n",
              "    (() => {\n",
              "      let quickchartButtonEl =\n",
              "        document.querySelector('#df-6ccc38af-c4b3-45aa-9ecd-983edf485888 button');\n",
              "      quickchartButtonEl.style.display =\n",
              "        google.colab.kernel.accessAllowed ? 'block' : 'none';\n",
              "    })();\n",
              "  </script>\n",
              "</div>\n",
              "    </div>\n",
              "  </div>\n"
            ],
            "application/vnd.google.colaboratory.intrinsic+json": {
              "type": "dataframe",
              "variable_name": "reliance_data",
              "summary": "{\n  \"name\": \"reliance_data\",\n  \"rows\": 1233,\n  \"fields\": [\n    {\n      \"column\": \"Date\",\n      \"properties\": {\n        \"dtype\": \"date\",\n        \"min\": \"2018-08-01 00:00:00\",\n        \"max\": \"2023-07-31 00:00:00\",\n        \"num_unique_values\": 1233,\n        \"samples\": [\n          \"2020-01-17 00:00:00\",\n          \"2020-10-22 00:00:00\",\n          \"2021-11-04 00:00:00\"\n        ],\n        \"semantic_type\": \"\",\n        \"description\": \"\"\n      }\n    },\n    {\n      \"column\": \"Open\",\n      \"properties\": {\n        \"dtype\": \"number\",\n        \"std\": 504.33893031512,\n        \"min\": 837.7116088867188,\n        \"max\": 2636.2255859375,\n        \"num_unique_values\": 1106,\n        \"samples\": [\n          1396.18603515625,\n          2447.795166015625,\n          944.4142456054688\n        ],\n        \"semantic_type\": \"\",\n        \"description\": \"\"\n      }\n    },\n    {\n      \"column\": \"High\",\n      \"properties\": {\n        \"dtype\": \"number\",\n        \"std\": 507.7579841723216,\n        \"min\": 868.6160888671875,\n        \"max\": 2636.2255859375,\n        \"num_unique_values\": 1145,\n        \"samples\": [\n          1159.46533203125,\n          2309.575927734375,\n          2054.59716796875\n        ],\n        \"semantic_type\": \"\",\n        \"description\": \"\"\n      }\n    },\n    {\n      \"column\": \"Low\",\n      \"properties\": {\n        \"dtype\": \"number\",\n        \"std\": 500.992440940566,\n        \"min\": 800.6354370117188,\n        \"max\": 2581.630126953125,\n        \"num_unique_values\": 1156,\n        \"samples\": [\n          2314.513916015625,\n          1136.2869873046875,\n          1086.821533203125\n        ],\n        \"semantic_type\": \"\",\n        \"description\": \"\"\n      }\n    },\n    {\n      \"column\": \"Close\",\n      \"properties\": {\n        \"dtype\": \"number\",\n        \"std\": 504.2777876373359,\n        \"min\": 808.3158569335938,\n        \"max\": 2623.026611328125,\n        \"num_unique_values\": 1203,\n        \"samples\": [\n          2165.4033203125,\n          1329.811767578125,\n          1067.5291748046875\n        ],\n        \"semantic_type\": \"\",\n        \"description\": \"\"\n      }\n    },\n    {\n      \"column\": \"Adj Close\",\n      \"properties\": {\n        \"dtype\": \"number\",\n        \"std\": 507.6726160146078,\n        \"min\": 796.8192749023438,\n        \"max\": 2613.79345703125,\n        \"num_unique_values\": 1214,\n        \"samples\": [\n          1984.096923828125,\n          2292.632080078125,\n          993.9673461914062\n        ],\n        \"semantic_type\": \"\",\n        \"description\": \"\"\n      }\n    },\n    {\n      \"column\": \"Volume\",\n      \"properties\": {\n        \"dtype\": \"number\",\n        \"std\": 8028502,\n        \"min\": 852828,\n        \"max\": 71341683,\n        \"num_unique_values\": 1233,\n        \"samples\": [\n          14731735,\n          15401105,\n          852828\n        ],\n        \"semantic_type\": \"\",\n        \"description\": \"\"\n      }\n    },\n    {\n      \"column\": \"Symbol\",\n      \"properties\": {\n        \"dtype\": \"category\",\n        \"num_unique_values\": 1,\n        \"samples\": [\n          \"RELIANCE.NS\"\n        ],\n        \"semantic_type\": \"\",\n        \"description\": \"\"\n      }\n    }\n  ]\n}"
            }
          },
          "metadata": {},
          "execution_count": 5
        }
      ]
    },
    {
      "cell_type": "code",
      "source": [
        "import pandas as pd\n",
        "import matplotlib.pyplot as plt\n",
        "\n",
        "# Ensure reliance_data DataFrame has 'Date' as index\n",
        "if isinstance(reliance_data.index, pd.DatetimeIndex):\n",
        "    # Plot the adjusted close price against time\n",
        "    plt.figure(figsize=(10, 6))\n",
        "    plt.plot(reliance_data.index, reliance_data['Adj Close'], color='blue', label='Adjusted Close Price')\n",
        "    plt.title('Adjusted Close Price of Reliance Industries Limited (RELIANCE.NS)')\n",
        "    plt.xlabel('Date')\n",
        "    plt.ylabel('Adjusted Close Price')\n",
        "    plt.xticks(rotation=45)\n",
        "    plt.grid(True)\n",
        "    plt.legend()\n",
        "    plt.tight_layout()\n",
        "    plt.show()\n",
        "else:\n",
        "    print(\"The index of reliance_data DataFrame is not a DatetimeIndex.\")\n"
      ],
      "metadata": {
        "id": "UeUhzagg-hk8",
        "outputId": "d02ec3fb-d991-4fd8-fa81-f13b85becccb",
        "colab": {
          "base_uri": "https://localhost:8080/",
          "height": 607
        }
      },
      "execution_count": 8,
      "outputs": [
        {
          "output_type": "display_data",
          "data": {
            "text/plain": [
              "<Figure size 1000x600 with 1 Axes>"
            ],
            "image/png": "[encoded data removed]"
          },
          "metadata": {}
        }
      ]
    },
    {
      "cell_type": "code",
      "source": [
        "new_table = reliance_data.loc[:, ['Adj Close']]\n",
        "\n",
        "# Display the new DataFrame\n",
        "print(new_table)"
      ],
      "metadata": {
        "id": "OkYWlaIN-j6y",
        "outputId": "2b73e4b7-a4b6-45d1-d27d-914d2151a35f",
        "colab": {
          "base_uri": "https://localhost:8080/"
        }
      },
      "execution_count": 9,
      "outputs": [
        {
          "output_type": "stream",
          "name": "stdout",
          "text": [
            "              Adj Close\n",
            "Date                   \n",
            "2018-08-01  1068.286377\n",
            "2018-08-02  1046.783569\n",
            "2018-08-03  1054.488647\n",
            "2018-08-06  1068.510376\n",
            "2018-08-07  1060.984375\n",
            "...                 ...\n",
            "2023-07-25  2477.050049\n",
            "2023-07-26  2517.307617\n",
            "2023-07-27  2493.890381\n",
            "2023-07-28  2518.952148\n",
            "2023-07-31  2540.276611\n",
            "\n",
            "[1233 rows x 1 columns]\n"
          ]
        }
      ]
    },
    {
      "cell_type": "code",
      "source": [
        "import numpy as np\n",
        "\n",
        "# Take the logarithm of the 'Adj Close' column\n",
        "new_table['Adj Close'] = np.log(new_table['Adj Close'])\n",
        "\n",
        "# Display the new DataFrame with logarithm applied\n",
        "print(new_table)\n"
      ],
      "metadata": {
        "id": "onUQ64hv_3Jc",
        "outputId": "27ddc66f-aca9-4b9d-9730-dccdc1ee8f1a",
        "colab": {
          "base_uri": "https://localhost:8080/"
        }
      },
      "execution_count": 10,
      "outputs": [
        {
          "output_type": "stream",
          "name": "stdout",
          "text": [
            "            Adj Close\n",
            "Date                 \n",
            "2018-08-01   6.973811\n",
            "2018-08-02   6.953477\n",
            "2018-08-03   6.960811\n",
            "2018-08-06   6.974021\n",
            "2018-08-07   6.966952\n",
            "...               ...\n",
            "2023-07-25   7.814824\n",
            "2023-07-26   7.830945\n",
            "2023-07-27   7.821599\n",
            "2023-07-28   7.831598\n",
            "2023-07-31   7.840028\n",
            "\n",
            "[1233 rows x 1 columns]\n"
          ]
        }
      ]
    },
    {
      "cell_type": "code",
      "source": [
        "pip install arch\n"
      ],
      "metadata": {
        "id": "yUg3_2ZbAOtC",
        "outputId": "083ba100-82cb-46f1-d0b0-78d1359b6a0a",
        "colab": {
          "base_uri": "https://localhost:8080/"
        }
      },
      "execution_count": 12,
      "outputs": [
        {
          "output_type": "stream",
          "name": "stdout",
          "text": [
            "Collecting arch\n",
            "  Downloading arch-6.3.0-cp310-cp310-manylinux_2_17_x86_64.manylinux2014_x86_64.whl (982 kB)\n",
            "\u001b[2K     \u001b[90m━━━━━━━━━━━━━━━━━━━━━━━━━━━━━━━━━━━━━━━━\u001b[0m \u001b[32m983.0/983.0 kB\u001b[0m \u001b[31m8.1 MB/s\u001b[0m eta \u001b[36m0:00:00\u001b[0m\n",
            "\u001b[?25hRequirement already satisfied: numpy>=1.19 in /usr/local/lib/python3.10/dist-packages (from arch) (1.25.2)\n",
            "Requirement already satisfied: scipy>=1.5 in /usr/local/lib/python3.10/dist-packages (from arch) (1.11.4)\n",
            "Requirement already satisfied: pandas>=1.1 in /usr/local/lib/python3.10/dist-packages (from arch) (2.0.3)\n",
            "Requirement already satisfied: statsmodels>=0.12 in /usr/local/lib/python3.10/dist-packages (from arch) (0.14.1)\n",
            "Requirement already satisfied: python-dateutil>=2.8.2 in /usr/local/lib/python3.10/dist-packages (from pandas>=1.1->arch) (2.8.2)\n",
            "Requirement already satisfied: pytz>=2020.1 in /usr/local/lib/python3.10/dist-packages (from pandas>=1.1->arch) (2023.4)\n",
            "Requirement already satisfied: tzdata>=2022.1 in /usr/local/lib/python3.10/dist-packages (from pandas>=1.1->arch) (2024.1)\n",
            "Requirement already satisfied: patsy>=0.5.4 in /usr/local/lib/python3.10/dist-packages (from statsmodels>=0.12->arch) (0.5.6)\n",
            "Requirement already satisfied: packaging>=21.3 in /usr/local/lib/python3.10/dist-packages (from statsmodels>=0.12->arch) (24.0)\n",
            "Requirement already satisfied: six in /usr/local/lib/python3.10/dist-packages (from patsy>=0.5.4->statsmodels>=0.12->arch) (1.16.0)\n",
            "Installing collected packages: arch\n",
            "Successfully installed arch-6.3.0\n"
          ]
        }
      ]
    },
    {
      "cell_type": "code",
      "source": [
        "import arch\n",
        "from arch import arch_model\n",
        "\n",
        "# Create an ARCH model\n",
        "am = arch_model(new_table['Adj Close'], vol='Arch', p=3, o=0, q=3, dist='Normal')\n",
        "\n",
        "# Fit the model\n",
        "res = am.fit(disp='off')\n",
        "\n",
        "# Print model summary\n",
        "print(res.summary())\n",
        "\n",
        "# Get conditional volatility\n",
        "cond_volatility = res.conditional_volatility\n",
        "\n",
        "# Display conditional volatility\n",
        "print(cond_volatility)\n"
      ],
      "metadata": {
        "id": "Y40RTjsd_-ft",
        "outputId": "f6a1e02d-38d2-4a17-9fd2-ca02addace86",
        "colab": {
          "base_uri": "https://localhost:8080/"
        }
      },
      "execution_count": 22,
      "outputs": [
        {
          "output_type": "stream",
          "name": "stdout",
          "text": [
            "                      Constant Mean - ARCH Model Results                      \n",
            "==============================================================================\n",
            "Dep. Variable:              Adj Close   R-squared:                       0.000\n",
            "Mean Model:             Constant Mean   Adj. R-squared:                  0.000\n",
            "Vol Model:                       ARCH   Log-Likelihood:                524.141\n",
            "Distribution:                  Normal   AIC:                          -1038.28\n",
            "Method:            Maximum Likelihood   BIC:                          -1012.70\n",
            "                                        No. Observations:                 1233\n",
            "Date:                Sat, Apr 13 2024   Df Residuals:                     1232\n",
            "Time:                        19:54:44   Df Model:                            1\n",
            "                               Mean Model                               \n",
            "========================================================================\n",
            "                 coef    std err          t      P>|t|  95.0% Conf. Int.\n",
            "------------------------------------------------------------------------\n",
            "mu             7.6961  6.862e-03   1121.618      0.000 [  7.683,  7.710]\n",
            "                              Volatility Model                              \n",
            "============================================================================\n",
            "                 coef    std err          t      P>|t|      95.0% Conf. Int.\n",
            "----------------------------------------------------------------------------\n",
            "omega      1.9660e-04  4.100e-05      4.795  1.628e-06 [1.162e-04,2.770e-04]\n",
            "alpha[1]       0.9935  8.075e-02     12.303  8.679e-35     [  0.835,  1.152]\n",
            "alpha[2]       0.0000      0.140      0.000      1.000     [ -0.275,  0.275]\n",
            "alpha[3]       0.0000      0.118      0.000      1.000     [ -0.231,  0.231]\n",
            "============================================================================\n",
            "\n",
            "Covariance estimator: robust\n",
            "Date\n",
            "2018-08-01    0.447208\n",
            "2018-08-02    0.720103\n",
            "2018-08-03    0.740366\n",
            "2018-08-06    0.733058\n",
            "2018-08-07    0.719894\n",
            "                ...   \n",
            "2023-07-25    0.119765\n",
            "2023-07-26    0.119128\n",
            "2023-07-27    0.135098\n",
            "2023-07-28    0.125837\n",
            "2023-07-31    0.135746\n",
            "Name: cond_vol, Length: 1233, dtype: float64\n"
          ]
        },
        {
          "output_type": "stream",
          "name": "stderr",
          "text": [
            "/usr/local/lib/python3.10/dist-packages/arch/univariate/base.py:311: DataScaleWarning: y is poorly scaled, which may affect convergence of the optimizer when\n",
            "estimating the model parameters. The scale of y is 0.09737. Parameter\n",
            "estimation work better when this value is between 1 and 1000. The recommended\n",
            "rescaling is 10 * y.\n",
            "\n",
            "This warning can be disabled by either rescaling y before initializing the\n",
            "model or by setting rescale=False.\n",
            "\n",
            "  warnings.warn(\n"
          ]
        }
      ]
    },
    {
      "cell_type": "code",
      "source": [
        "import arch\n",
        "from arch import arch_model\n",
        "\n",
        "# Create a GARCH model\n",
        "garch_model = arch_model(new_table['Adj Close'], vol='Garch', p=4, o=0, q=2, dist='Normal')\n",
        "\n",
        "# Fit the model\n",
        "garch_result = garch_model.fit(disp='off')\n",
        "\n",
        "# Print model summary\n",
        "print(garch_result.summary())\n",
        "\n",
        "# Get conditional volatility\n",
        "garch_cond_volatility = garch_result.conditional_volatility\n",
        "\n",
        "# Display conditional volatility\n",
        "print(garch_cond_volatility)\n"
      ],
      "metadata": {
        "id": "VJDQ8X2BANBp",
        "outputId": "f83bf275-c0f8-4cff-819a-77dfeb14a502",
        "colab": {
          "base_uri": "https://localhost:8080/"
        }
      },
      "execution_count": 20,
      "outputs": [
        {
          "output_type": "stream",
          "name": "stdout",
          "text": [
            "                     Constant Mean - GARCH Model Results                      \n",
            "==============================================================================\n",
            "Dep. Variable:              Adj Close   R-squared:                       0.000\n",
            "Mean Model:             Constant Mean   Adj. R-squared:                  0.000\n",
            "Vol Model:                      GARCH   Log-Likelihood:                341.324\n",
            "Distribution:                  Normal   AIC:                          -666.648\n",
            "Method:            Maximum Likelihood   BIC:                          -625.710\n",
            "                                        No. Observations:                 1233\n",
            "Date:                Sat, Apr 13 2024   Df Residuals:                     1232\n",
            "Time:                        19:54:07   Df Model:                            1\n",
            "                               Mean Model                               \n",
            "========================================================================\n",
            "                 coef    std err          t      P>|t|  95.0% Conf. Int.\n",
            "------------------------------------------------------------------------\n",
            "mu             7.6936  5.265e-03   1461.204      0.000 [  7.683,  7.704]\n",
            "                              Volatility Model                              \n",
            "============================================================================\n",
            "                 coef    std err          t      P>|t|      95.0% Conf. Int.\n",
            "----------------------------------------------------------------------------\n",
            "omega      1.8363e-03  1.566e-04     11.723  9.771e-32 [1.529e-03,2.143e-03]\n",
            "alpha[1]       0.2867  9.235e-02      3.105  1.906e-03     [  0.106,  0.468]\n",
            "alpha[2]       0.0237      0.311  7.607e-02      0.939     [ -0.587,  0.634]\n",
            "alpha[3]       0.0237      0.142      0.167      0.868     [ -0.255,  0.302]\n",
            "alpha[4]       0.0237      0.164      0.144      0.885     [ -0.298,  0.345]\n",
            "beta[1]        0.1847      0.875      0.211      0.833     [ -1.530,  1.900]\n",
            "beta[2]        0.1847      0.907      0.204      0.839     [ -1.594,  1.963]\n",
            "============================================================================\n",
            "\n",
            "Covariance estimator: robust\n",
            "Date\n",
            "2018-08-01    0.384821\n",
            "2018-08-02    0.478724\n",
            "2018-08-03    0.500380\n",
            "2018-08-06    0.523824\n",
            "2018-08-07    0.534040\n",
            "                ...   \n",
            "2023-07-25    0.120795\n",
            "2023-07-26    0.115603\n",
            "2023-07-27    0.116567\n",
            "2023-07-28    0.112511\n",
            "2023-07-31    0.115443\n",
            "Name: cond_vol, Length: 1233, dtype: float64\n"
          ]
        },
        {
          "output_type": "stream",
          "name": "stderr",
          "text": [
            "/usr/local/lib/python3.10/dist-packages/arch/univariate/base.py:311: DataScaleWarning: y is poorly scaled, which may affect convergence of the optimizer when\n",
            "estimating the model parameters. The scale of y is 0.09737. Parameter\n",
            "estimation work better when this value is between 1 and 1000. The recommended\n",
            "rescaling is 10 * y.\n",
            "\n",
            "This warning can be disabled by either rescaling y before initializing the\n",
            "model or by setting rescale=False.\n",
            "\n",
            "  warnings.warn(\n"
          ]
        }
      ]
    },
    {
      "cell_type": "code",
      "source": [
        "# Rescale the data by multiplying it by 10\n",
        "rescaled_data = new_table['Adj Close'] * 10\n",
        "\n",
        "# Create a GARCH model with rescaled data\n",
        "garch_model = arch_model(rescaled_data, vol='Garch', p=4, o=0, q=2, dist='Normal')\n",
        "\n",
        "# Fit the model\n",
        "garch_result = garch_model.fit(disp='off')\n",
        "\n",
        "# Print model summary\n",
        "print(garch_result.summary())\n",
        "\n",
        "# Get conditional volatility\n",
        "garch_cond_volatility = garch_result.conditional_volatility\n",
        "\n",
        "# Display conditional volatility\n",
        "print(garch_cond_volatility)\n"
      ],
      "metadata": {
        "id": "fbEfu17NCfXP",
        "outputId": "fab9f047-4390-41cc-96c1-dbfe9eca99e7",
        "colab": {
          "base_uri": "https://localhost:8080/"
        }
      },
      "execution_count": 25,
      "outputs": [
        {
          "output_type": "stream",
          "name": "stdout",
          "text": [
            "                     Constant Mean - GARCH Model Results                      \n",
            "==============================================================================\n",
            "Dep. Variable:              Adj Close   R-squared:                       0.000\n",
            "Mean Model:             Constant Mean   Adj. R-squared:                  0.000\n",
            "Vol Model:                      GARCH   Log-Likelihood:               -2314.95\n",
            "Distribution:                  Normal   AIC:                           4645.89\n",
            "Method:            Maximum Likelihood   BIC:                           4686.83\n",
            "                                        No. Observations:                 1233\n",
            "Date:                Sat, Apr 13 2024   Df Residuals:                     1232\n",
            "Time:                        20:00:06   Df Model:                            1\n",
            "                               Mean Model                               \n",
            "========================================================================\n",
            "                 coef    std err          t      P>|t|  95.0% Conf. Int.\n",
            "------------------------------------------------------------------------\n",
            "mu            76.9614      1.225     62.833      0.000 [ 74.561, 79.362]\n",
            "                            Volatility Model                            \n",
            "========================================================================\n",
            "                 coef    std err          t      P>|t|  95.0% Conf. Int.\n",
            "------------------------------------------------------------------------\n",
            "omega          0.0197      0.334  5.882e-02      0.953 [ -0.635,  0.675]\n",
            "alpha[1]       0.9935      4.626      0.215      0.830 [ -8.074, 10.061]\n",
            "alpha[2]   1.1473e-10     10.563  1.086e-11      1.000 [-20.703, 20.703]\n",
            "alpha[3]   2.2229e-10      1.939  1.146e-10      1.000 [ -3.800,  3.800]\n",
            "alpha[4]   2.1809e-10      3.102  7.030e-11      1.000 [ -6.080,  6.080]\n",
            "beta[1]        0.0000     14.207      0.000      1.000 [-27.846, 27.846]\n",
            "beta[2]    1.5947e-10      4.172  3.822e-11      1.000 [ -8.177,  8.177]\n",
            "========================================================================\n",
            "\n",
            "Covariance estimator: robust\n",
            "Date\n",
            "2018-08-01    4.472087\n",
            "2018-08-02    7.201042\n",
            "2018-08-03    7.403678\n",
            "2018-08-06    7.330593\n",
            "2018-08-07    7.198953\n",
            "                ...   \n",
            "2023-07-25    1.197642\n",
            "2023-07-26    1.191274\n",
            "2023-07-27    1.350978\n",
            "2023-07-28    1.258363\n",
            "2023-07-31    1.357453\n",
            "Name: cond_vol, Length: 1233, dtype: float64\n"
          ]
        }
      ]
    },
    {
      "cell_type": "code",
      "source": [
        "import arch\n",
        "from arch import arch_model\n",
        "\n",
        "# Rescale the 'Adj Close' data\n",
        "rescaled_data = new_table['Adj Close'] * 10\n",
        "\n",
        "# Create a GARCH model with the rescaled data\n",
        "garch_model = arch_model(rescaled_data, vol='Garch', p=4, o=0, q=2, dist='Normal')\n",
        "\n",
        "# Fit the model\n",
        "garch_result = garch_model.fit(disp='off')\n",
        "\n",
        "# Print model summary\n",
        "print(garch_result.summary())\n",
        "\n",
        "# Get conditional volatility\n",
        "garch_cond_volatility = garch_result.conditional_volatility\n",
        "\n",
        "# Display conditional volatility\n",
        "print(garch_cond_volatility)\n"
      ],
      "metadata": {
        "id": "NJj1Sz_CEhgg",
        "outputId": "618d28ec-56a1-4856-f7a3-02f587378d9e",
        "colab": {
          "base_uri": "https://localhost:8080/"
        }
      },
      "execution_count": 28,
      "outputs": [
        {
          "output_type": "stream",
          "name": "stdout",
          "text": [
            "                     Constant Mean - GARCH Model Results                      \n",
            "==============================================================================\n",
            "Dep. Variable:              Adj Close   R-squared:                       0.000\n",
            "Mean Model:             Constant Mean   Adj. R-squared:                  0.000\n",
            "Vol Model:                      GARCH   Log-Likelihood:               -2314.95\n",
            "Distribution:                  Normal   AIC:                           4645.89\n",
            "Method:            Maximum Likelihood   BIC:                           4686.83\n",
            "                                        No. Observations:                 1233\n",
            "Date:                Sat, Apr 13 2024   Df Residuals:                     1232\n",
            "Time:                        20:08:58   Df Model:                            1\n",
            "                               Mean Model                               \n",
            "========================================================================\n",
            "                 coef    std err          t      P>|t|  95.0% Conf. Int.\n",
            "------------------------------------------------------------------------\n",
            "mu            76.9614      1.225     62.833      0.000 [ 74.561, 79.362]\n",
            "                            Volatility Model                            \n",
            "========================================================================\n",
            "                 coef    std err          t      P>|t|  95.0% Conf. Int.\n",
            "------------------------------------------------------------------------\n",
            "omega          0.0197      0.334  5.882e-02      0.953 [ -0.635,  0.675]\n",
            "alpha[1]       0.9935      4.626      0.215      0.830 [ -8.074, 10.061]\n",
            "alpha[2]   1.1473e-10     10.563  1.086e-11      1.000 [-20.703, 20.703]\n",
            "alpha[3]   2.2229e-10      1.939  1.146e-10      1.000 [ -3.800,  3.800]\n",
            "alpha[4]   2.1809e-10      3.102  7.030e-11      1.000 [ -6.080,  6.080]\n",
            "beta[1]        0.0000     14.207      0.000      1.000 [-27.846, 27.846]\n",
            "beta[2]    1.5947e-10      4.172  3.822e-11      1.000 [ -8.177,  8.177]\n",
            "========================================================================\n",
            "\n",
            "Covariance estimator: robust\n",
            "Date\n",
            "2018-08-01    4.472087\n",
            "2018-08-02    7.201042\n",
            "2018-08-03    7.403678\n",
            "2018-08-06    7.330593\n",
            "2018-08-07    7.198953\n",
            "                ...   \n",
            "2023-07-25    1.197642\n",
            "2023-07-26    1.191274\n",
            "2023-07-27    1.350978\n",
            "2023-07-28    1.258363\n",
            "2023-07-31    1.357453\n",
            "Name: cond_vol, Length: 1233, dtype: float64\n"
          ]
        }
      ]
    },
    {
      "cell_type": "code",
      "source": [
        "final_volatility = garch_cond_volatility[-1]\n",
        "\n",
        "# Display the final volatility\n",
        "print(\"Final volatility:\", final_volatility)"
      ],
      "metadata": {
        "id": "3uscT9iqFHGa",
        "outputId": "358227a2-1b64-4680-e135-3d7edc4054c5",
        "colab": {
          "base_uri": "https://localhost:8080/"
        }
      },
      "execution_count": 29,
      "outputs": [
        {
          "output_type": "stream",
          "name": "stdout",
          "text": [
            "Final volatility: 1.3574529155007606\n"
          ]
        }
      ]
    },
    {
      "cell_type": "code",
      "source": [
        "import numpy as np\n",
        "import tensorflow as tf\n",
        "from tensorflow.keras.models import Sequential\n",
        "from tensorflow.keras.layers import LSTM, Dense\n",
        "from sklearn.preprocessing import MinMaxScaler\n",
        "\n",
        "# Prepare the data\n",
        "X = np.array(new_table['Adj Close']).reshape(-1, 1)\n",
        "y = np.array(new_table['Adj Close']).reshape(-1, 1)\n",
        "\n",
        "# Normalize the data\n",
        "scaler = MinMaxScaler(feature_range=(0, 1))\n",
        "X = scaler.fit_transform(X)\n",
        "y = scaler.fit_transform(y)\n",
        "\n",
        "# Split data into training and testing sets\n",
        "train_size = int(len(X) * 0.8)\n",
        "test_size = len(X) - train_size\n",
        "X_train, X_test = X[0:train_size], X[train_size:len(X)]\n",
        "y_train, y_test = y[0:train_size], y[train_size:len(y)]\n",
        "\n",
        "# Reshape input to be [samples, time steps, features]\n",
        "X_train = np.reshape(X_train, (X_train.shape[0], 1, X_train.shape[1]))\n",
        "X_test = np.reshape(X_test, (X_test.shape[0], 1, X_test.shape[1]))\n",
        "\n",
        "# Build LSTM model\n",
        "model = Sequential()\n",
        "model.add(LSTM(units=50, return_sequences=True, input_shape=(X_train.shape[1], 1)))\n",
        "model.add(LSTM(units=50))\n",
        "model.add(Dense(1))\n",
        "\n",
        "# Compile the model\n",
        "model.compile(optimizer='adam', loss='mean_squared_error')\n",
        "\n",
        "# Fit the model\n",
        "model.fit(X_train, y_train, epochs=10, batch_size=1, verbose=1)\n",
        "\n",
        "# Predict volatility\n",
        "lstm_cond_volatility = model.predict(X_test)\n",
        "\n",
        "# Display conditional volatility\n",
        "print(lstm_cond_volatility)\n"
      ],
      "metadata": {
        "id": "EujvKq1SAo85"
      },
      "execution_count": null,
      "outputs": []
    },
    {
      "cell_type": "code",
      "source": [
        "last_lstm_volatility = lstm_cond_volatility[-1]\n",
        "print(\"Last volatility in LSTM:\", last_lstm_volatility)"
      ],
      "metadata": {
        "id": "JXzmxy6pAz2T",
        "outputId": "091d961a-dd39-4794-ca58-bf43e5894fb4",
        "colab": {
          "base_uri": "https://localhost:8080/"
        }
      },
      "execution_count": 23,
      "outputs": [
        {
          "output_type": "stream",
          "name": "stdout",
          "text": [
            "Last volatility in LSTM: [0.9695804]\n"
          ]
        }
      ]
    },
    {
      "cell_type": "code",
      "source": [],
      "metadata": {
        "id": "aFrd0t_wB9dB"
      },
      "execution_count": null,
      "outputs": []
    }
  ]
}